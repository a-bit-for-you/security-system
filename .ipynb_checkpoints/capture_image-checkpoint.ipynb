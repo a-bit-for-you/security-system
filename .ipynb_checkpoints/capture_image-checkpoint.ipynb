{
 "cells": [
  {
   "cell_type": "code",
   "execution_count": 2,
   "id": "little-uncertainty",
   "metadata": {},
   "outputs": [
    {
     "name": "stdout",
     "output_type": "stream",
     "text": [
      "Taking image...\n"
     ]
    }
   ],
   "source": [
    "import cv2 \n",
    "\n",
    "'''\n",
    "OpenCV (Open Source Computer Vision Library) is a machine learning library.\n",
    "The library has more than 2500 optimized algorithms These algorithms can be used to detect and recognize faces, \n",
    "identify objects, classify human actions in videos, track camera movements, track moving objects, \n",
    "find similar images from an image database, remove red eyes from images taken using flash.\n",
    "'''\n",
    "\n",
    "project_path = r'F:\\projects\\security-system'\n",
    "\n",
    "# Camera 0 is the integrated camera port. A port is an endpoint of communication.\n",
    "camera_port = 0\n",
    " \n",
    "#Number of frames to throw away while the camera adjusts to light levels\n",
    "ramp_frames = 30\n",
    " \n",
    "# Now we can initialize the camera capture object with the cv2.VideoCapture class.\n",
    "# All it needs is the index to a camera port.\n",
    "camera = cv2.VideoCapture(camera_port)\n",
    " \n",
    "# Captures a single image from the camera and returns it in PIL format\n",
    "def get_image():\n",
    "    retval, im = camera.read()#retval used to return value to cv2. \n",
    "    return im\n",
    " \n",
    "# Ramp the camera - these frames will be discarded and are only used to allow v4l2\n",
    "# to adjust light levels, if necessary\n",
    "for i in range(ramp_frames):\n",
    "    temp = get_image()\n",
    "print(\"Taking image...\")\n",
    "# Take the actual image we want to keep\n",
    "camera_capture = get_image()\n",
    "file = rf\"{project_path}/image/image.jpg\"\n",
    "cv2.imwrite(file, camera_capture)\n",
    " \n",
    "# You'll want to release the camera, otherwise you won't be able to create a new\n",
    "# capture object until your script exits\n",
    "del(camera)\n"
   ]
  },
  {
   "cell_type": "code",
   "execution_count": 3,
   "id": "other-shareware",
   "metadata": {},
   "outputs": [
    {
     "name": "stdout",
     "output_type": "stream",
     "text": [
      "Taking image...\n",
      "Taking image...\n",
      "Taking image...\n",
      "Taking image...\n",
      "Taking image...\n",
      "Taking image...\n",
      "Taking image...\n",
      "Taking image...\n",
      "Taking image...\n",
      "Taking image...\n"
     ]
    }
   ],
   "source": [
    "import cv2 \n",
    "\n",
    "'''\n",
    "OpenCV (Open Source Computer Vision Library) is a machine learning library.\n",
    "The library has more than 2500 optimized algorithms These algorithms can be used to detect and recognize faces, \n",
    "identify objects, classify human actions in videos, track camera movements, track moving objects, \n",
    "find similar images from an image database, remove red eyes from images taken using flash.\n",
    "'''\n",
    "\n",
    "project_path = r'F:\\projects\\security-system'\n",
    "\n",
    "# Camera 0 is the integrated camera port. A port is an endpoint of communication.\n",
    "camera_port = 0\n",
    " \n",
    "#Number of frames to throw away while the camera adjusts to light levels\n",
    "ramp_frames = 30\n",
    " \n",
    "# Now we can initialize the camera capture object with the cv2.VideoCapture class.\n",
    "# All it needs is the index to a camera port.\n",
    "camera = cv2.VideoCapture(camera_port)\n",
    " \n",
    "# Captures a single image from the camera and returns it in PIL format\n",
    "def get_image():\n",
    "    retval, im = camera.read()#retval used to return value to cv2. \n",
    "    return im\n",
    " \n",
    "for i in range(10):\n",
    "    # Ramp the camera - these frames will be discarded and are only used to allow v4l2\n",
    "    # to adjust light levels, if necessary\n",
    "    for i in range(ramp_frames):\n",
    "        temp = get_image()\n",
    "    print(\"Taking image...\")\n",
    "    # Take the actual image we want to keep\n",
    "    camera_capture = get_image()\n",
    "    file = rf\"{project_path}/image/image.jpg\"\n",
    "    cv2.imwrite(file, camera_capture)\n",
    "\n",
    "    # You'll want to release the camera, otherwise you won't be able to create a new\n",
    "    # capture object until your script exits\n",
    "del(camera)\n"
   ]
  }
 ],
 "metadata": {
  "kernelspec": {
   "display_name": "Python 3",
   "language": "python",
   "name": "python3"
  },
  "language_info": {
   "codemirror_mode": {
    "name": "ipython",
    "version": 3
   },
   "file_extension": ".py",
   "mimetype": "text/x-python",
   "name": "python",
   "nbconvert_exporter": "python",
   "pygments_lexer": "ipython3",
   "version": "3.8.8"
  }
 },
 "nbformat": 4,
 "nbformat_minor": 5
}
