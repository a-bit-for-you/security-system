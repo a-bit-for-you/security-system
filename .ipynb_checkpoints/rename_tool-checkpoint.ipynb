{
 "cells": [
  {
   "cell_type": "code",
   "execution_count": 2,
   "id": "scientific-advantage",
   "metadata": {},
   "outputs": [
    {
     "name": "stdout",
     "output_type": "stream",
     "text": [
      "IMG20210331201951.jpg\n",
      "IMG20210331201953.jpg\n",
      "IMG20210331201953_01.jpg\n",
      "IMG20210331201955.jpg\n",
      "IMG20210331201955_01.jpg\n",
      "IMG20210331201956.jpg\n",
      "IMG20210331201957.jpg\n",
      "IMG20210331201958.jpg\n",
      "IMG20210331201959.jpg\n",
      "IMG20210331202000.jpg\n",
      "IMG20210331202001.jpg\n",
      "IMG20210331202003.jpg\n",
      "IMG20210331202006.jpg\n",
      "IMG20210331202008.jpg\n",
      "IMG20210331202010.jpg\n",
      "IMG20210331202011.jpg\n",
      "IMG20210331202013.jpg\n",
      "IMG20210331202016.jpg\n",
      "IMG20210331202038.jpg\n",
      "IMG20210331202039.jpg\n",
      "IMG20210331202040.jpg\n",
      "IMG20210331202041.jpg\n",
      "IMG20210331202042.jpg\n",
      "IMG20210331202043.jpg\n",
      "IMG20210331202044.jpg\n",
      "IMG20210331202045.jpg\n",
      "IMG20210331202045_01.jpg\n",
      "IMG20210331202047.jpg\n",
      "IMG20210331202048.jpg\n",
      "IMG20210331202050.jpg\n"
     ]
    }
   ],
   "source": [
    "import os\n",
    "cnt=1\n",
    "path = r'F:\\projects\\security-system\\object_dataset\\object_present'\n",
    "for i in os.listdir(path):\n",
    "    print(i)\n",
    "    os.rename('{}\\\\{}'.format(path,i),'{}\\\\object_present_{}.jpg'.format(path,cnt))\n",
    "    cnt+=1"
   ]
  }
 ],
 "metadata": {
  "kernelspec": {
   "display_name": "Python 3",
   "language": "python",
   "name": "python3"
  },
  "language_info": {
   "codemirror_mode": {
    "name": "ipython",
    "version": 3
   },
   "file_extension": ".py",
   "mimetype": "text/x-python",
   "name": "python",
   "nbconvert_exporter": "python",
   "pygments_lexer": "ipython3",
   "version": "3.8.8"
  }
 },
 "nbformat": 4,
 "nbformat_minor": 5
}
